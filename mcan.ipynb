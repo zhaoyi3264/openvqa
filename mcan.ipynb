{
 "cells": [
  {
   "cell_type": "markdown",
   "metadata": {
    "id": "eDHHBqnjRij2"
   },
   "source": [
    "## Source code"
   ]
  },
  {
   "cell_type": "markdown",
   "metadata": {
    "id": "EFBMHegVYwgx"
   },
   "source": [
    "https://github.com/MILVLG/openvqa/blob/6b9bfeb2e6462b946d7e7866ffc49dd7a8bcece3/openvqa/core/base_cfgs.py\n",
    "https://github.com/MILVLG/openvqa/blob/6b9bfeb2e6462b946d7e7866ffc49dd7a8bcece3/utils/exec.py#L36\n",
    "https://github.com/MILVLG/openvqa/blob/6b9bfeb2e6462b946d7e7866ffc49dd7a8bcece3/utils/test_engine.py#L49\n",
    "https://github.com/MILVLG/openvqa/blob/6b9bfeb2e6462b946d7e7866ffc49dd7a8bcece3/openvqa/datasets/vqa/vqa_loader.py#L68"
   ]
  },
  {
   "cell_type": "markdown",
   "metadata": {
    "id": "wyONyychRXaF"
   },
   "source": [
    "# Load dataset"
   ]
  },
  {
   "cell_type": "code",
   "execution_count": 2,
   "metadata": {
    "colab": {
     "base_uri": "https://localhost:8080/"
    },
    "id": "08lNunGuD52d",
    "outputId": "f7a39a95-7e65-477d-97d8-8048a7b50c68"
   },
   "outputs": [
    {
     "name": "stdout",
     "output_type": "stream",
     "text": [
      "Checking dataset ........\n",
      "Finished!\n",
      "\n",
      "Hyper Parameters:\n",
      "{ BATCH_SIZE        }->64\n",
      "{ BBOXFEAT_EMB_SIZE }->2048\n",
      "{ BBOX_NORMALIZE    }->True\n",
      "{ CACHE_PATH        }->./results/cache\n",
      "{ CKPTS_PATH        }->./ckpts\n",
      "{ CKPT_EPOCH        }->13\n",
      "{ CKPT_PATH         }->None\n",
      "{ CKPT_VERSION      }->mcan_large\n",
      "{ DATASET           }->vqa\n",
      "{ DATA_PATH         }->{'vqa': './data/vqa', 'gqa': './data/gqa', 'clevr': './data/clevr'}\n",
      "{ DATA_ROOT         }->./data\n",
      "{ DEVICES           }->[0]\n",
      "{ DROPOUT_R         }->0.1\n",
      "{ EVAL_BATCH_SIZE   }->16\n",
      "{ EVAL_EVERY_EPOCH  }->False\n",
      "{ FEATS_PATH        }->{'vqa': {'train': './data/vqa/feats/train2014', 'val': './data/vqa/feats/val2014', 'test': './data/vqa/feats/test2015'}, 'gqa': {'default-frcn': './data/gqa/feats/gqa-frcn', 'default-grid': './data/gqa/feats/gqa-grid'}, 'clevr': {'train': './data/clevr/feats/train', 'val': './data/clevr/feats/val', 'test': './data/clevr/feats/test'}}\n",
      "{ FEAT_SIZE         }->{'vqa': {'FRCN_FEAT_SIZE': (100, 2048), 'BBOX_FEAT_SIZE': (100, 5)}, 'gqa': {'FRCN_FEAT_SIZE': (100, 2048), 'GRID_FEAT_SIZE': (49, 2048), 'BBOX_FEAT_SIZE': (100, 5)}, 'clevr': {'GRID_FEAT_SIZE': (196, 1024)}}\n",
      "{ FF_SIZE           }->4096\n",
      "{ FLAT_GLIMPSES     }->1\n",
      "{ FLAT_MLP_SIZE     }->512\n",
      "{ FLAT_OUT_SIZE     }->2048\n",
      "{ GPU               }->0\n",
      "{ GRAD_ACCU_STEPS   }->2\n",
      "{ GRAD_NORM_CLIP    }->-1\n",
      "{ HIDDEN_SIZE       }->1024\n",
      "{ LAYER             }->6\n",
      "{ LOG_PATH          }->./results/log\n",
      "{ LOSS_FUNC         }->bce\n",
      "{ LOSS_FUNC_NAME_DICT }->{'ce': 'CrossEntropyLoss', 'bce': 'BCEWithLogitsLoss', 'kld': 'KLDivLoss', 'mse': 'MSELoss'}\n",
      "{ LOSS_FUNC_NONLINEAR }->{'ce': [None, 'flat'], 'bce': [None, None], 'kld': ['log_softmax', None], 'mse': [None, None]}\n",
      "{ LOSS_REDUCTION    }->sum\n",
      "{ LR_BASE           }->7e-05\n",
      "{ LR_DECAY_LIST     }->[10, 12]\n",
      "{ LR_DECAY_R        }->0.2\n",
      "{ MAX_EPOCH         }->13\n",
      "{ MODEL             }->mcan_large\n",
      "{ MODEL_USE         }->mcan\n",
      "{ MULTI_HEAD        }->8\n",
      "{ NUM_WORKERS       }->2\n",
      "{ N_GPU             }->1\n",
      "{ OPT               }->Adam\n",
      "{ OPT_PARAMS        }->{'betas': (0.9, 0.98), 'eps': 1e-09, 'weight_decay': 0, 'amsgrad': False}\n",
      "{ PIN_MEM           }->True\n",
      "{ PRED_PATH         }->./results/pred\n",
      "{ RAW_PATH          }->{'vqa': {'train': './data/vqa/raw/v2_OpenEnded_mscoco_train2014_questions.json', 'train-anno': './data/vqa/raw/v2_mscoco_train2014_annotations.json', 'val': './data/vqa/raw/v2_OpenEnded_mscoco_val2014_questions.json', 'val-anno': './data/vqa/raw/v2_mscoco_val2014_annotations.json', 'vg': './data/vqa/raw/VG_questions.json', 'vg-anno': './data/vqa/raw/VG_annotations.json', 'test': './data/vqa/raw/v2_OpenEnded_mscoco_test2015_questions.json'}, 'gqa': {'train': './data/gqa/raw/questions1.2/train_balanced_questions.json', 'val': './data/gqa/raw/questions1.2/val_balanced_questions.json', 'testdev': './data/gqa/raw/questions1.2/testdev_balanced_questions.json', 'test': './data/gqa/raw/questions1.2/submission_all_questions.json', 'val_all': './data/gqa/raw/questions1.2/val_all_questions.json', 'testdev_all': './data/gqa/raw/questions1.2/testdev_all_questions.json', 'train_choices': './data/gqa/raw/eval/train_choices', 'val_choices': './data/gqa/raw/eval/val_choices.json'}, 'clevr': {'train': './data/clevr/raw/questions/CLEVR_train_questions.json', 'val': './data/clevr/raw/questions/CLEVR_val_questions.json', 'test': './data/clevr/raw/questions/CLEVR_test_questions.json'}}\n",
      "{ RESULT_PATH       }->./results/result_test\n",
      "{ RESUME            }->False\n",
      "{ RUN_MODE          }->test\n",
      "{ SEED              }->1950821\n",
      "{ SPLIT             }->{'train': 'train', 'val': 'val', 'test': 'test'}\n",
      "{ SPLITS            }->{'vqa': {'train': 'train', 'val': 'val', 'test': 'test'}, 'gqa': {'train': '', 'val': 'testdev', 'test': 'test'}, 'clevr': {'train': '', 'val': 'val', 'test': 'test'}}\n",
      "{ SUB_BATCH_SIZE    }->32\n",
      "{ TASK_LOSS_CHECK   }->{'vqa': ['bce', 'kld'], 'gqa': ['ce'], 'clevr': ['ce']}\n",
      "{ TEST_SAVE_PRED    }->False\n",
      "{ TRAIN_SPLIT       }->train\n",
      "{ USE_AUX_FEAT      }->False\n",
      "{ USE_BBOX_FEAT     }->False\n",
      "{ USE_GLOVE         }->True\n",
      "{ VERBOSE           }->True\n",
      "{ VERSION           }->1950821\n",
      "{ WARMUP_EPOCH      }->3\n",
      "{ WORD_EMBED_SIZE   }->300\n",
      "\n"
     ]
    },
    {
     "name": "stderr",
     "output_type": "stream",
     "text": [
      "<ipython-input-2-4222a2251f52>:26: YAMLLoadWarning: calling yaml.load() without Loader=... is deprecated, as the default Loader is unsafe. Please read https://msg.pyyaml.org/load for full details.\n",
      "  yaml_dict = yaml.load(f)\n"
     ]
    }
   ],
   "source": [
    "import gc\n",
    "import json\n",
    "\n",
    "import numpy as np\n",
    "import torch\n",
    "import torch.utils.data as Data\n",
    "import yaml\n",
    "# from yaml import CLoader\n",
    "\n",
    "from openvqa.datasets.dataset_loader import DatasetLoader, EvalLoader\n",
    "from openvqa.datasets.vqa.eval.vqa import VQA\n",
    "from openvqa.datasets.vqa.eval.vqaEval import VQAEval\n",
    "from openvqa.models.model_loader import CfgLoader, ModelLoader\n",
    "from run import create_parser\n",
    "from utils.test_engine import test_engine\n",
    "\n",
    "parser = create_parser()\n",
    "arg = '--RUN test --MODEL mcan_large --DATASET vqa --NW 2 --CKPT_V mcan_large --CKPT_E 13'\n",
    "args = parser.parse_args(arg.split(' '))\n",
    "\n",
    "cfg_file = \"configs/{}/{}.yml\".format(args.DATASET, args.MODEL)\n",
    "with open(cfg_file, 'r') as f:\n",
    "    # yaml_dict = yaml.load(f, Loader=CLoader)\n",
    "    yaml_dict = yaml.load(f)\n",
    "\n",
    "__C = CfgLoader(yaml_dict['MODEL_USE']).load()\n",
    "args = __C.str_to_bool(args)\n",
    "args_dict = __C.parse_to_dict(args)\n",
    "\n",
    "args_dict = {**yaml_dict, **args_dict}\n",
    "__C.add_args(args_dict)\n",
    "__C.proc()\n",
    "\n",
    "print('Hyper Parameters:')\n",
    "print(__C)"
   ]
  },
  {
   "cell_type": "code",
   "execution_count": 3,
   "metadata": {
    "colab": {
     "base_uri": "https://localhost:8080/"
    },
    "id": "czhtig1Y8zZO",
    "outputId": "7e96770a-4c0a-4e32-f467-6f12a9bc6321"
   },
   "outputs": [
    {
     "name": "stderr",
     "output_type": "stream",
     "text": [
      "/home/user/.conda/envs/openvqa/lib/python3.8/site-packages/spacy/util.py:275: UserWarning: [W031] Model 'en_vectors_web_lg' (2.1.0) requires spaCy v2.1 and is incompatible with the current spaCy version (2.3.5). This may lead to unexpected results or runtime errors. To resolve this, download a newer compatible model or retrain your custom model with the current spaCy version. For more details and available updates, run: python -m spacy validate\n",
      "  warnings.warn(warn_msg)\n"
     ]
    },
    {
     "name": "stdout",
     "output_type": "stream",
     "text": [
      " ========== Dataset size: 447793\n"
     ]
    },
    {
     "name": "stderr",
     "output_type": "stream",
     "text": [
      "/home/user/.conda/envs/openvqa/lib/python3.8/site-packages/spacy/_ml.py:287: UserWarning: [W020] Unnamed vectors. This won't allow multiple vectors models to be loaded. (Shape: (1070971, 300))\n",
      "  warnings.warn(Warnings.W020.format(shape=vectors.data.shape))\n"
     ]
    },
    {
     "name": "stdout",
     "output_type": "stream",
     "text": [
      " ========== Question token vocab size: 20573\n",
      " ========== Answer token vocab size (occur more than 8 times): 3129\n",
      "Finished!\n",
      "\n"
     ]
    }
   ],
   "source": [
    "dataset = DatasetLoader(__C).DataSet()\n",
    "\n",
    "data_size = dataset.data_size\n",
    "token_size = dataset.token_size\n",
    "ans_size = dataset.ans_size\n",
    "pretrained_emb = dataset.pretrained_emb"
   ]
  },
  {
   "cell_type": "code",
   "execution_count": 4,
   "metadata": {
    "colab": {
     "base_uri": "https://localhost:8080/"
    },
    "id": "8s56dZbZK_MJ",
    "outputId": "037027f0-ad9d-4a90-fd0d-26c0ed16535a"
   },
   "outputs": [
    {
     "data": {
      "text/plain": [
       "<All keys matched successfully>"
      ]
     },
     "execution_count": 4,
     "metadata": {},
     "output_type": "execute_result"
    }
   ],
   "source": [
    "net = ModelLoader(__C).Net(\n",
    "    __C,\n",
    "    pretrained_emb,\n",
    "    token_size,\n",
    "    ans_size\n",
    ")\n",
    "\n",
    "net.cuda()\n",
    "net.eval()\n",
    "\n",
    "with open('ckpts/ckpt_mcan_large/epoch13.pkl', 'rb') as f:\n",
    "    state = torch.load(f)\n",
    "net.load_state_dict(state['state_dict'])"
   ]
  },
  {
   "cell_type": "code",
   "execution_count": 5,
   "metadata": {
    "id": "Agvd5qHvWSo1"
   },
   "outputs": [],
   "source": [
    "dataloader = Data.DataLoader(\n",
    "    dataset,\n",
    "    batch_size=__C.EVAL_BATCH_SIZE,\n",
    "    shuffle=False,\n",
    "    num_workers=__C.NUM_WORKERS,\n",
    "    pin_memory=__C.PIN_MEM\n",
    ")"
   ]
  },
  {
   "cell_type": "markdown",
   "metadata": {
    "id": "WhxB1MggRzVW"
   },
   "source": [
    "# Prediction (on test set)"
   ]
  },
  {
   "cell_type": "code",
   "execution_count": 6,
   "metadata": {
    "colab": {
     "base_uri": "https://localhost:8080/"
    },
    "id": "WpoSdOZgaMr_",
    "outputId": "f06cd941-978d-479c-d532-24ab7680f68d"
   },
   "outputs": [
    {
     "name": "stdout",
     "output_type": "stream",
     "text": [
      "Evaluation: [step 27987/27987]          CPU times: user 24min 12s, sys: 6min 10s, total: 30min 22s\n",
      "Wall time: 27min 12s\n"
     ]
    }
   ],
   "source": [
    "%%time\n",
    "ans_ix_list = []\n",
    "pred_list = []\n",
    "\n",
    "for step, (\n",
    "        frcn_feat_iter,\n",
    "        grid_feat_iter,\n",
    "        bbox_feat_iter,\n",
    "        ques_ix_iter,\n",
    "        ans_iter\n",
    "    ) in enumerate(dataloader):\n",
    "    print(\"\\rEvaluation: [step %4d/%4d]\" % (\n",
    "        step,\n",
    "        int(data_size / __C.EVAL_BATCH_SIZE),\n",
    "    ), end='          ')\n",
    "\n",
    "    frcn_feat_iter = frcn_feat_iter.cuda()\n",
    "    grid_feat_iter = grid_feat_iter.cuda()\n",
    "    bbox_feat_iter = bbox_feat_iter.cuda()\n",
    "    ques_ix_iter = ques_ix_iter.cuda()\n",
    "\n",
    "    pred = net(\n",
    "        frcn_feat_iter,\n",
    "        grid_feat_iter,\n",
    "        bbox_feat_iter,\n",
    "        ques_ix_iter\n",
    "    )\n",
    "\n",
    "    pred_np = pred.cpu().data.numpy()\n",
    "    pred_argmax = np.argmax(pred_np, axis=1)\n",
    "    \n",
    "    if pred_argmax.shape[0] != __C.EVAL_BATCH_SIZE:\n",
    "        pred_argmax = np.pad(\n",
    "            pred_argmax,\n",
    "            (0, __C.EVAL_BATCH_SIZE - pred_argmax.shape[0]),\n",
    "            mode='constant',\n",
    "            constant_values=-1\n",
    "        )\n",
    "\n",
    "    ans_ix_list.append(pred_argmax)\n",
    "    \n",
    "    if __C.TEST_SAVE_PRED:\n",
    "        if pred_np.shape[0] != __C.EVAL_BATCH_SIZE:\n",
    "            pred_np = np.pad(\n",
    "                pred_np,\n",
    "                ((0, __C.EVAL_BATCH_SIZE - pred_np.shape[0]), (0, 0)),\n",
    "                mode='constant',\n",
    "                constant_values=-1\n",
    "            )\n",
    "\n",
    "        pred_list.append(pred_np)\n",
    "\n",
    "# Evaluation: [step 6698/6698]\n",
    "# CPU times: user 14h 57min 55s, sys: 19min 55s, total: 15h 17min 51s\n",
    "# Wall time: 7h 40min 34s\n",
    "# Evaluation: [step 13993/13993]\n",
    "# CPU times: user 13min 48s, sys: 8min 59s, total: 22min 47s\n",
    "# Wall time: 35min 22s"
   ]
  },
  {
   "cell_type": "code",
   "execution_count": 7,
   "metadata": {
    "colab": {
     "base_uri": "https://localhost:8080/"
    },
    "id": "XKX9LFIc9cti",
    "outputId": "286e8440-2350-4d5b-fc99-268fcbd04fdf"
   },
   "outputs": [
    {
     "name": "stdout",
     "output_type": "stream",
     "text": [
      "Save the result to file: ./results/cache/result_run_1950821.json\n"
     ]
    }
   ],
   "source": [
    "ans_ix_list = np.array(ans_ix_list).reshape(-1)\n",
    "\n",
    "qid_list = [ques['question_id'] for ques in dataset.ques_list]\n",
    "ans_size = dataset.ans_size\n",
    "\n",
    "result = [{\n",
    "        'answer': dataset.ix_to_ans[str(ans_ix_list[qix])],\n",
    "        'question_id': int(qid_list[qix])\n",
    "    } for qix in range(qid_list.__len__())]\n",
    "\n",
    "result_eval_file = __C.CACHE_PATH + '/result_run_' + __C.VERSION\n",
    "log_file = __C.LOG_PATH + '/log_run_' + __C.VERSION + '.txt'\n",
    "result_eval_file += '.json'\n",
    "print('Save the result to file: {}'.format(result_eval_file))\n",
    "with open(result_eval_file, 'w') as f:\n",
    "    json.dump(result, f)"
   ]
  },
  {
   "cell_type": "markdown",
   "metadata": {
    "id": "2hdcIm1NR4vv"
   },
   "source": [
    "# Evaluation (on validation set)"
   ]
  },
  {
   "cell_type": "code",
   "execution_count": null,
   "metadata": {
    "id": "hM2f7Wa79cti",
    "outputId": "9a6511fe-b6bc-4928-e264-a94438ef7a8f"
   },
   "outputs": [
    {
     "name": "stdout",
     "output_type": "stream",
     "text": [
      "loading VQA annotations and questions into memory...\n",
      "0:00:05.052310\n",
      "creating index...\n",
      "index created!\n",
      "Loading and preparing results...     \n",
      "DONE (t=0.46s)\n",
      "creating index...\n",
      "index created!\n"
     ]
    }
   ],
   "source": [
    "result_eval_file = __C.CACHE_PATH + '/result_run_' + __C.VERSION\n",
    "result_eval_file += '.json'\n",
    "\n",
    "ques_file_path = __C.RAW_PATH[__C.DATASET][__C.SPLIT['val']]\n",
    "ans_file_path = __C.RAW_PATH[__C.DATASET][__C.SPLIT['val'] + '-anno']\n",
    "# uncomment line 165-166 in http://localhost:8888/edit/openvqa/openvqa/datasets/vqa/eval/vqa.py\n",
    "vqa = VQA(ans_file_path, ques_file_path)\n",
    "vqaRes = vqa.loadRes(result_eval_file, ques_file_path)"
   ]
  },
  {
   "cell_type": "code",
   "execution_count": null,
   "metadata": {
    "id": "bwwh_z9P9ctj",
    "outputId": "dd21cb3e-63ea-4776-a055-27214f6ac96c"
   },
   "outputs": [
    {
     "name": "stdout",
     "output_type": "stream",
     "text": [
      "computing accuracy\n",
      "Finished Percent: [####################] 99% Done computing accuracy\n"
     ]
    }
   ],
   "source": [
    "vqaEval = VQAEval(vqa, vqaRes, n=2)\n",
    "\n",
    "# quesIds = [d['question_id'] for d in result]\n",
    "# vqaEval.evaluate(quesIds)\n",
    "vqaEval.evaluate()"
   ]
  },
  {
   "cell_type": "code",
   "execution_count": null,
   "metadata": {
    "id": "6Yd0wNsg9ctk",
    "outputId": "3e7350c2-cb9b-43c8-c5e7-f2c8b0cb8d11"
   },
   "outputs": [
    {
     "data": {
      "text/plain": [
       "{'overall': 84.09,\n",
       " 'perQuestionType': {'none of the above': 82.19,\n",
       "  'what are the': 75.57,\n",
       "  'what is': 75.66,\n",
       "  'what': 69.0,\n",
       "  'is this a': 97.88,\n",
       "  'is this': 97.46,\n",
       "  'what is the man': 84.12,\n",
       "  'how many': 75.92,\n",
       "  'what does the': 48.29,\n",
       "  'why': 46.35,\n",
       "  'is it': 98.84,\n",
       "  'why is the': 47.41,\n",
       "  'what color is the': 92.15,\n",
       "  'is there a': 98.67,\n",
       "  'is the': 96.79,\n",
       "  'is that a': 97.79,\n",
       "  'are these': 96.65,\n",
       "  'are the': 96.26,\n",
       "  'what is the': 75.58,\n",
       "  'which': 68.28,\n",
       "  'could': 98.61,\n",
       "  'are there': 98.21,\n",
       "  'what kind of': 76.9,\n",
       "  'has': 97.16,\n",
       "  'what color are the': 91.07,\n",
       "  'are there any': 99.08,\n",
       "  'is this person': 98.05,\n",
       "  'does the': 97.25,\n",
       "  'where is the': 60.6,\n",
       "  'how many people are': 74.58,\n",
       "  'can you': 97.58,\n",
       "  'what type of': 77.29,\n",
       "  'what is the color of the': 92.4,\n",
       "  'what is on the': 76.11,\n",
       "  'does this': 97.48,\n",
       "  'is this an': 97.49,\n",
       "  'who is': 63.25,\n",
       "  'what is this': 84.76,\n",
       "  'is there': 98.29,\n",
       "  'are': 95.61,\n",
       "  'what time': 45.95,\n",
       "  'how': 54.52,\n",
       "  'what is in the': 82.44,\n",
       "  'do you': 98.56,\n",
       "  'what are': 82.12,\n",
       "  'what sport is': 96.99,\n",
       "  'what is the person': 85.1,\n",
       "  'is he': 97.53,\n",
       "  'where are the': 62.22,\n",
       "  'what brand': 63.21,\n",
       "  'what number is': 31.31,\n",
       "  'what color is': 92.86,\n",
       "  'what is the woman': 81.28,\n",
       "  'what room is': 97.59,\n",
       "  'is': 96.83,\n",
       "  'what color': 88.12,\n",
       "  'is the woman': 96.96,\n",
       "  'are they': 97.53,\n",
       "  'is the person': 97.58,\n",
       "  'is the man': 97.35,\n",
       "  'what animal is': 90.35,\n",
       "  'what is the name': 32.58,\n",
       "  'was': 97.43,\n",
       "  'do': 95.87,\n",
       "  'how many people are in': 78.74},\n",
       " 'perAnswerType': {'other': 77.52, 'yes/no': 97.97, 'number': 69.03}}"
      ]
     },
     "execution_count": 9,
     "metadata": {
      "tags": []
     },
     "output_type": "execute_result"
    }
   ],
   "source": [
    "vqaEval.accuracy"
   ]
  },
  {
   "cell_type": "code",
   "execution_count": null,
   "metadata": {
    "id": "uIGU9OEt9ctk"
   },
   "outputs": [],
   "source": []
  }
 ],
 "metadata": {
  "accelerator": "GPU",
  "colab": {
   "collapsed_sections": [],
   "name": "openvqa.ipynb",
   "provenance": []
  },
  "kernelspec": {
   "display_name": "openvqa",
   "language": "python",
   "name": "openvqa"
  },
  "language_info": {
   "codemirror_mode": {
    "name": "ipython",
    "version": 3
   },
   "file_extension": ".py",
   "mimetype": "text/x-python",
   "name": "python",
   "nbconvert_exporter": "python",
   "pygments_lexer": "ipython3",
   "version": "3.8.8"
  }
 },
 "nbformat": 4,
 "nbformat_minor": 1
}
