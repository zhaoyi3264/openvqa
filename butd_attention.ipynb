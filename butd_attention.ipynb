{
 "cells": [
  {
   "cell_type": "markdown",
   "metadata": {
    "id": "uqAZLp3XRavH"
   },
   "source": [
    "# Setup"
   ]
  },
  {
   "cell_type": "code",
   "execution_count": 1,
   "metadata": {
    "colab": {
     "base_uri": "https://localhost:8080/"
    },
    "id": "6ASZDou59uiE",
    "outputId": "78892463-b975-4ec8-d003-d2ef7662da34"
   },
   "outputs": [
    {
     "name": "stdout",
     "output_type": "stream",
     "text": [
      "Mounted at /content/drive\n"
     ]
    }
   ],
   "source": [
    "from google.colab import drive\n",
    "drive.mount('/content/drive')"
   ]
  },
  {
   "cell_type": "markdown",
   "metadata": {
    "id": "50RpFIK5Qqjb"
   },
   "source": [
    "## Test set features\n"
   ]
  },
  {
   "cell_type": "code",
   "execution_count": 2,
   "metadata": {
    "id": "78Ab9xtK9gP8"
   },
   "outputs": [],
   "source": [
    "!tar xzf /content/drive/MyDrive/stat453/test2015.tar.gz"
   ]
  },
  {
   "cell_type": "code",
   "execution_count": 25,
   "metadata": {
    "colab": {
     "base_uri": "https://localhost:8080/"
    },
    "id": "FAsqCUkoGu6P",
    "outputId": "b39da40a-89d1-4b2a-833d-99fd9e479e87"
   },
   "outputs": [
    {
     "name": "stdout",
     "output_type": "stream",
     "text": [
      "81434\n"
     ]
    }
   ],
   "source": [
    "!ls data/vqa/feats/test2015/ | wc -l"
   ]
  },
  {
   "cell_type": "code",
   "execution_count": null,
   "metadata": {
    "id": "hLQzXtJ_BTMd"
   },
   "outputs": [],
   "source": [
    "!git clone https://github.com/zhaoyi3264/openvqa.git"
   ]
  },
  {
   "cell_type": "code",
   "execution_count": 5,
   "metadata": {
    "id": "DJ042yxlB_Hd"
   },
   "outputs": [],
   "source": [
    "!mv test2015/ openvqa/data/vqa/feats/\n",
    "!mkdir openvqa/data/vqa/feats/train2014\n",
    "!mkdir openvqa/data/vqa/feats/val2014"
   ]
  },
  {
   "cell_type": "markdown",
   "metadata": {
    "id": "yqUEFkauQ1j3"
   },
   "source": [
    "## Raw data"
   ]
  },
  {
   "cell_type": "code",
   "execution_count": 14,
   "metadata": {
    "id": "quiQmrNNCaFV"
   },
   "outputs": [],
   "source": [
    "!cp /content/drive/MyDrive/stat453/raw/*.json openvqa/data/vqa/raw/"
   ]
  },
  {
   "cell_type": "markdown",
   "metadata": {
    "id": "ka4xSDWxQ6dD"
   },
   "source": [
    "## Pre-trained model (BAN-8)"
   ]
  },
  {
   "cell_type": "code",
   "execution_count": null,
   "metadata": {
    "id": "tYGUByO8Fle0"
   },
   "outputs": [],
   "source": [
    "# !wget https://awma1-my.sharepoint.com/:u:/g/personal/yuz_l0_tn/EbJgyL7FPTFAqzMm3HB1xDIBjXpWygOoXrdnDZKEIu34rg?download=1 -O epoch13.pkl"
   ]
  },
  {
   "cell_type": "code",
   "execution_count": 21,
   "metadata": {
    "id": "Fx_wtxreF5rT"
   },
   "outputs": [],
   "source": [
    "!mkdir -p openvqa/ckpts/ckpt_ban_8/\n",
    "!cp /content/drive/MyDrive/stat453/ckpts/ckpt_ban_8/epoch13.pkl openvqa/ckpts/ckpt_ban_8/"
   ]
  },
  {
   "cell_type": "markdown",
   "metadata": {
    "id": "kBdkG8PTRAp4"
   },
   "source": [
    "## Spacy model"
   ]
  },
  {
   "cell_type": "code",
   "execution_count": null,
   "metadata": {
    "id": "N9IreGohFF6H"
   },
   "outputs": [],
   "source": [
    "# !wget https://github.com/explosion/spacy-models/releases/download/en_vectors_web_lg-2.1.0/en_vectors_web_lg-2.1.0.tar.gz -O en_vectors_web_lg-2.1.0.tar.gz\n",
    "!pip install -q /content/drive/MyDrive/stat453/en_vectors_web_lg-2.1.0.tar.gz"
   ]
  },
  {
   "cell_type": "code",
   "execution_count": null,
   "metadata": {
    "id": "CToSkXelIhro"
   },
   "outputs": [],
   "source": [
    "# %load_ext autoreload\n",
    "# %autoreload 2"
   ]
  },
  {
   "cell_type": "markdown",
   "metadata": {
    "id": "eDHHBqnjRij2"
   },
   "source": [
    "## Source code"
   ]
  },
  {
   "cell_type": "markdown",
   "metadata": {
    "id": "EFBMHegVYwgx"
   },
   "source": [
    "https://github.com/MILVLG/openvqa/blob/6b9bfeb2e6462b946d7e7866ffc49dd7a8bcece3/openvqa/core/base_cfgs.py\n",
    "https://github.com/MILVLG/openvqa/blob/6b9bfeb2e6462b946d7e7866ffc49dd7a8bcece3/utils/exec.py#L36\n",
    "https://github.com/MILVLG/openvqa/blob/6b9bfeb2e6462b946d7e7866ffc49dd7a8bcece3/utils/test_engine.py#L49\n",
    "https://github.com/MILVLG/openvqa/blob/6b9bfeb2e6462b946d7e7866ffc49dd7a8bcece3/openvqa/datasets/vqa/vqa_loader.py#L68"
   ]
  },
  {
   "cell_type": "markdown",
   "metadata": {
    "id": "wyONyychRXaF"
   },
   "source": [
    "# Load dataset"
   ]
  },
  {
   "cell_type": "code",
   "execution_count": 15,
   "metadata": {
    "colab": {
     "base_uri": "https://localhost:8080/"
    },
    "id": "DobaMYxcDkgN",
    "outputId": "712710aa-4b87-4116-da83-4c29a5ab6c73"
   },
   "outputs": [
    {
     "name": "stdout",
     "output_type": "stream",
     "text": [
      "/content/openvqa\n"
     ]
    }
   ],
   "source": [
    "%cd /content/openvqa/"
   ]
  },
  {
   "cell_type": "code",
   "execution_count": 1,
   "metadata": {
    "colab": {
     "base_uri": "https://localhost:8080/"
    },
    "id": "08lNunGuD52d",
    "outputId": "f7a39a95-7e65-477d-97d8-8048a7b50c68"
   },
   "outputs": [
    {
     "name": "stdout",
     "output_type": "stream",
     "text": [
      "Checking dataset ........\n",
      "Finished!\n",
      "\n",
      "Hyper Parameters:\n",
      "{ BATCH_SIZE        }->512\n",
      "{ BBOX_NORMALIZE    }->False\n",
      "{ CACHE_PATH        }->./results/cache\n",
      "{ CKPTS_PATH        }->./ckpts\n",
      "{ CKPT_EPOCH        }->13\n",
      "{ CKPT_PATH         }->None\n",
      "{ CKPT_VERSION      }->butd\n",
      "{ CLASSIFER_DROPOUT_R }->0.5\n",
      "{ DATASET           }->vqa\n",
      "{ DATA_PATH         }->{'vqa': './data/vqa', 'gqa': './data/gqa', 'clevr': './data/clevr'}\n",
      "{ DATA_ROOT         }->./data\n",
      "{ DEVICES           }->[0]\n",
      "{ DROPOUT_R         }->0.2\n",
      "{ EVAL_BATCH_SIZE   }->256\n",
      "{ EVAL_EVERY_EPOCH  }->False\n",
      "{ FEATS_PATH        }->{'vqa': {'train': './data/vqa/feats/train2014', 'val': './data/vqa/feats/val2014', 'test': './data/vqa/feats/test2015'}, 'gqa': {'default-frcn': './data/gqa/feats/gqa-frcn', 'default-grid': './data/gqa/feats/gqa-grid'}, 'clevr': {'train': './data/clevr/feats/train', 'val': './data/clevr/feats/val', 'test': './data/clevr/feats/test'}}\n",
      "{ FEAT_SIZE         }->{'vqa': {'FRCN_FEAT_SIZE': (100, 2048), 'BBOX_FEAT_SIZE': (100, 5)}, 'gqa': {'FRCN_FEAT_SIZE': (100, 2048), 'GRID_FEAT_SIZE': (49, 2048), 'BBOX_FEAT_SIZE': (100, 5)}, 'clevr': {'GRID_FEAT_SIZE': (196, 1024)}}\n",
      "{ FLAT_OUT_SIZE     }->2048\n",
      "{ GPU               }->0\n",
      "{ GRAD_ACCU_STEPS   }->1\n",
      "{ GRAD_NORM_CLIP    }->0.25\n",
      "{ HIDDEN_SIZE       }->1024\n",
      "{ IMG_FEAT_SIZE     }->2048\n",
      "{ LOG_PATH          }->./results/log\n",
      "{ LOSS_FUNC         }->bce\n",
      "{ LOSS_FUNC_NAME_DICT }->{'ce': 'CrossEntropyLoss', 'bce': 'BCEWithLogitsLoss', 'kld': 'KLDivLoss', 'mse': 'MSELoss'}\n",
      "{ LOSS_FUNC_NONLINEAR }->{'ce': [None, 'flat'], 'bce': [None, None], 'kld': ['log_softmax', None], 'mse': [None, None]}\n",
      "{ LOSS_REDUCTION    }->sum\n",
      "{ LR_BASE           }->0.002\n",
      "{ LR_DECAY_LIST     }->[10, 12]\n",
      "{ LR_DECAY_R        }->0.2\n",
      "{ MAX_EPOCH         }->13\n",
      "{ MODEL             }->butd\n",
      "{ MODEL_USE         }->butd\n",
      "{ NUM_WORKERS       }->2\n",
      "{ N_GPU             }->1\n",
      "{ OPT               }->Adamax\n",
      "{ OPT_PARAMS        }->{'betas': (0.9, 0.999), 'eps': 1e-09, 'weight_decay': 0}\n",
      "{ PIN_MEM           }->True\n",
      "{ PRED_PATH         }->./results/pred\n",
      "{ RAW_PATH          }->{'vqa': {'train': './data/vqa/raw/v2_OpenEnded_mscoco_train2014_questions.json', 'train-anno': './data/vqa/raw/v2_mscoco_train2014_annotations.json', 'val': './data/vqa/raw/v2_OpenEnded_mscoco_val2014_questions.json', 'val-anno': './data/vqa/raw/v2_mscoco_val2014_annotations.json', 'vg': './data/vqa/raw/VG_questions.json', 'vg-anno': './data/vqa/raw/VG_annotations.json', 'test': './data/vqa/raw/v2_OpenEnded_mscoco_test2015_questions.json'}, 'gqa': {'train': './data/gqa/raw/questions1.2/train_balanced_questions.json', 'val': './data/gqa/raw/questions1.2/val_balanced_questions.json', 'testdev': './data/gqa/raw/questions1.2/testdev_balanced_questions.json', 'test': './data/gqa/raw/questions1.2/submission_all_questions.json', 'val_all': './data/gqa/raw/questions1.2/val_all_questions.json', 'testdev_all': './data/gqa/raw/questions1.2/testdev_all_questions.json', 'train_choices': './data/gqa/raw/eval/train_choices', 'val_choices': './data/gqa/raw/eval/val_choices.json'}, 'clevr': {'train': './data/clevr/raw/questions/CLEVR_train_questions.json', 'val': './data/clevr/raw/questions/CLEVR_val_questions.json', 'test': './data/clevr/raw/questions/CLEVR_test_questions.json'}}\n",
      "{ RESULT_PATH       }->./results/result_test\n",
      "{ RESUME            }->False\n",
      "{ RUN_MODE          }->val\n",
      "{ SEED              }->1319421\n",
      "{ SPLIT             }->{'train': 'train', 'val': 'val', 'test': 'test'}\n",
      "{ SPLITS            }->{'vqa': {'train': 'train', 'val': 'val', 'test': 'test'}, 'gqa': {'train': '', 'val': 'testdev', 'test': 'test'}, 'clevr': {'train': '', 'val': 'val', 'test': 'test'}}\n",
      "{ SUB_BATCH_SIZE    }->512\n",
      "{ TASK_LOSS_CHECK   }->{'vqa': ['bce', 'kld'], 'gqa': ['ce'], 'clevr': ['ce']}\n",
      "{ TEST_SAVE_PRED    }->False\n",
      "{ TRAIN_SPLIT       }->train\n",
      "{ USE_GLOVE         }->True\n",
      "{ VERBOSE           }->True\n",
      "{ VERSION           }->1319421\n",
      "{ WARMUP_EPOCH      }->3\n",
      "{ WORD_EMBED_SIZE   }->300\n",
      "\n"
     ]
    }
   ],
   "source": [
    "import gc\n",
    "import json\n",
    "\n",
    "import numpy as np\n",
    "import torch\n",
    "import torch.utils.data as Data\n",
    "import yaml\n",
    "from yaml import CLoader\n",
    "\n",
    "from openvqa.datasets.dataset_loader import DatasetLoader, EvalLoader\n",
    "from openvqa.datasets.vqa.eval.vqa import VQA\n",
    "from openvqa.datasets.vqa.eval.vqaEval import VQAEval\n",
    "from openvqa.models.model_loader import CfgLoader, ModelLoader\n",
    "from run import create_parser\n",
    "from utils.test_engine import test_engine\n",
    "\n",
    "parser = create_parser()\n",
    "arg = '--RUN val --MODEL butd --DATASET vqa --NW 2 --CKPT_V butd --CKPT_E 13'\n",
    "args = parser.parse_args(arg.split(' '))\n",
    "\n",
    "cfg_file = \"configs/{}/{}.yml\".format(args.DATASET, args.MODEL)\n",
    "with open(cfg_file, 'r') as f:\n",
    "    yaml_dict = yaml.load(f, Loader=CLoader)\n",
    "\n",
    "__C = CfgLoader(yaml_dict['MODEL_USE']).load()\n",
    "args = __C.str_to_bool(args)\n",
    "args_dict = __C.parse_to_dict(args)\n",
    "\n",
    "args_dict = {**yaml_dict, **args_dict}\n",
    "__C.add_args(args_dict)\n",
    "__C.proc()\n",
    "\n",
    "print('Hyper Parameters:')\n",
    "print(__C)"
   ]
  },
  {
   "cell_type": "code",
   "execution_count": 3,
   "metadata": {
    "colab": {
     "base_uri": "https://localhost:8080/"
    },
    "id": "czhtig1Y8zZO",
    "outputId": "7e96770a-4c0a-4e32-f467-6f12a9bc6321"
   },
   "outputs": [
    {
     "name": "stdout",
     "output_type": "stream",
     "text": [
      " ========== Dataset size: 214354\n",
      " ========== Question token vocab size: 20573\n",
      " ========== Answer token vocab size (occur more than 8 times): 3129\n",
      "Finished!\n",
      "\n"
     ]
    }
   ],
   "source": [
    "dataset = DatasetLoader(__C).DataSet()\n",
    "\n",
    "data_size = dataset.data_size\n",
    "token_size = dataset.token_size\n",
    "ans_size = dataset.ans_size\n",
    "pretrained_emb = dataset.pretrained_emb"
   ]
  },
  {
   "cell_type": "code",
   "execution_count": 4,
   "metadata": {
    "colab": {
     "base_uri": "https://localhost:8080/"
    },
    "id": "8s56dZbZK_MJ",
    "outputId": "037027f0-ad9d-4a90-fd0d-26c0ed16535a"
   },
   "outputs": [
    {
     "data": {
      "text/plain": [
       "<All keys matched successfully>"
      ]
     },
     "execution_count": 4,
     "metadata": {},
     "output_type": "execute_result"
    }
   ],
   "source": [
    "net = ModelLoader(__C).Net(\n",
    "    __C,\n",
    "    pretrained_emb,\n",
    "    token_size,\n",
    "    ans_size\n",
    ")\n",
    "\n",
    "# net.cuda()\n",
    "net.eval()\n",
    "\n",
    "with open('ckpts/ckpt_butd/epoch13.pkl', 'rb') as f:\n",
    "    state = torch.load(f, map_location='cpu')\n",
    "net.load_state_dict(state['state_dict'])"
   ]
  },
  {
   "cell_type": "code",
   "execution_count": 5,
   "metadata": {
    "id": "Agvd5qHvWSo1"
   },
   "outputs": [],
   "source": [
    "dataloader = Data.DataLoader(\n",
    "    dataset,\n",
    "    batch_size=__C.EVAL_BATCH_SIZE,\n",
    "    shuffle=False,\n",
    "    num_workers=__C.NUM_WORKERS,\n",
    "    pin_memory=__C.PIN_MEM\n",
    ")"
   ]
  },
  {
   "cell_type": "markdown",
   "metadata": {},
   "source": [
    "[https://github.com/MILVLG/openvqa/blob/master/openvqa/models/butd/tda.py](https://github.com/MILVLG/openvqa/blob/master/openvqa/models/butd/tda.py)"
   ]
  },
  {
   "cell_type": "code",
   "execution_count": 40,
   "metadata": {},
   "outputs": [
    {
     "name": "stdout",
     "output_type": "stream",
     "text": [
      "CPU times: user 9.13 s, sys: 1.48 s, total: 10.6 s\n",
      "Wall time: 7.2 s\n"
     ]
    }
   ],
   "source": [
    "%%time\n",
    "for frcn_feat, grid_feat, bbox_feat, ques_ix, ans_iter in dataloader:\n",
    "    lang_feat = net.embedding(ques_ix)\n",
    "    lang_feat, _ = net.rnn(lang_feat)\n",
    "#     print('frcn_feat.shape:\\t', frcn_feat.shape)\n",
    "#     print('lang_feat.shape:\\t', lang_feat.shape)\n",
    "\n",
    "    img_feat, _ = net.adapter(frcn_feat, grid_feat, bbox_feat)\n",
    "\n",
    "    q, v = lang_feat[:, -1], img_feat\n",
    "#     print('v.shape:\\t\\t', v.shape)\n",
    "#     print('q.shape:\\t\\t', q.shape)\n",
    "    \n",
    "    att = net.backbone.v_att(q, v)\n",
    "#     print('att.shape:\\t\\t', att.shape)\n",
    "    \n",
    "#     atted_v = (att * v).sum(1)\n",
    "#     print('atted_v.shape:\\t\\t', atted_v.shape)\n",
    "    \n",
    "#     q_repr = net.backbone.q_net(q)\n",
    "#     v_repr = net.backbone.v_net(atted_v)\n",
    "#     print('v_repr.shape:\\t\\t', v_repr.shape)\n",
    "#     print('q_repr.shape:\\t\\t', q_repr.shape)\n",
    "    break"
   ]
  },
  {
   "cell_type": "code",
   "execution_count": null,
   "metadata": {},
   "outputs": [],
   "source": [
    "from collections import Counter\n",
    "import json\n",
    "\n",
    "import matplotlib as mpl\n",
    "import matplotlib.pyplot as plt\n",
    "import numpy as np\n",
    "import pandas as pd\n",
    "\n",
    "%matplotlib inline\n",
    "\n",
    "plt.rcParams['font.size'] = 12\n",
    "\n",
    "with open('results/cache/result_run_9268772.json', 'r') as f:\n",
    "    pred = json.load(f)\n",
    "with open('data/vqa/raw/v2_OpenEnded_mscoco_val2014_questions.json') as f:\n",
    "    ques = json.load(f)['questions']\n",
    "with open('data/vqa/raw/v2_mscoco_val2014_annotations.json') as f:\n",
    "    anno = json.load(f)['annotations']\n",
    "pred_df = pd.DataFrame(pred)\n",
    "ques_df = pd.DataFrame(ques)\n",
    "anno_df = pd.DataFrame(anno)\n",
    "\n",
    "df = pred_df.merge(ques_df, how='inner').merge(anno_df, how='inner')\n",
    "df = df.reindex(columns=['image_id','question_id', 'question_type', 'question',\n",
    "                         'answer_type', 'multiple_choice_answer', 'answers', 'answer'],\n",
    "                copy=False)\n",
    "# df.rename(columns=lambda col: 'prediction' if col == 'answer' else col, inplace=True)\n",
    "\n",
    "del pred, ques, anno, pred_df, ques_df, anno_df"
   ]
  },
  {
   "cell_type": "code",
   "execution_count": 45,
   "metadata": {},
   "outputs": [
    {
     "data": {
      "text/html": [
       "<div>\n",
       "<style scoped>\n",
       "    .dataframe tbody tr th:only-of-type {\n",
       "        vertical-align: middle;\n",
       "    }\n",
       "\n",
       "    .dataframe tbody tr th {\n",
       "        vertical-align: top;\n",
       "    }\n",
       "\n",
       "    .dataframe thead th {\n",
       "        text-align: right;\n",
       "    }\n",
       "</style>\n",
       "<table border=\"1\" class=\"dataframe\">\n",
       "  <thead>\n",
       "    <tr style=\"text-align: right;\">\n",
       "      <th></th>\n",
       "      <th>image_id</th>\n",
       "      <th>question_id</th>\n",
       "      <th>question_type</th>\n",
       "      <th>question</th>\n",
       "      <th>answer_type</th>\n",
       "      <th>multiple_choice_answer</th>\n",
       "      <th>answers</th>\n",
       "      <th>answer</th>\n",
       "    </tr>\n",
       "  </thead>\n",
       "  <tbody>\n",
       "    <tr>\n",
       "      <th>0</th>\n",
       "      <td>262148</td>\n",
       "      <td>262148000</td>\n",
       "      <td>none of the above</td>\n",
       "      <td>Where is he looking?</td>\n",
       "      <td>other</td>\n",
       "      <td>down</td>\n",
       "      <td>[{'answer': 'down', 'answer_confidence': 'yes'...</td>\n",
       "      <td>down</td>\n",
       "    </tr>\n",
       "    <tr>\n",
       "      <th>1</th>\n",
       "      <td>262148</td>\n",
       "      <td>262148001</td>\n",
       "      <td>what are the</td>\n",
       "      <td>What are the people in the background doing?</td>\n",
       "      <td>other</td>\n",
       "      <td>watching</td>\n",
       "      <td>[{'answer': 'spectating', 'answer_confidence':...</td>\n",
       "      <td>watching</td>\n",
       "    </tr>\n",
       "    <tr>\n",
       "      <th>2</th>\n",
       "      <td>262148</td>\n",
       "      <td>262148002</td>\n",
       "      <td>what is</td>\n",
       "      <td>What is he on top of?</td>\n",
       "      <td>other</td>\n",
       "      <td>picnic table</td>\n",
       "      <td>[{'answer': 'table', 'answer_confidence': 'yes...</td>\n",
       "      <td>picnic table</td>\n",
       "    </tr>\n",
       "    <tr>\n",
       "      <th>3</th>\n",
       "      <td>393225</td>\n",
       "      <td>393225000</td>\n",
       "      <td>what</td>\n",
       "      <td>What website copyrighted the picture?</td>\n",
       "      <td>other</td>\n",
       "      <td>foodiebakercom</td>\n",
       "      <td>[{'answer': 'foodiebakercom', 'answer_confiden...</td>\n",
       "      <td>flickr</td>\n",
       "    </tr>\n",
       "    <tr>\n",
       "      <th>4</th>\n",
       "      <td>393225</td>\n",
       "      <td>393225001</td>\n",
       "      <td>is this a</td>\n",
       "      <td>Is this a creamy soup?</td>\n",
       "      <td>yes/no</td>\n",
       "      <td>no</td>\n",
       "      <td>[{'answer': 'no', 'answer_confidence': 'yes', ...</td>\n",
       "      <td>no</td>\n",
       "    </tr>\n",
       "  </tbody>\n",
       "</table>\n",
       "</div>"
      ],
      "text/plain": [
       "   image_id  question_id      question_type  \\\n",
       "0    262148    262148000  none of the above   \n",
       "1    262148    262148001       what are the   \n",
       "2    262148    262148002            what is   \n",
       "3    393225    393225000               what   \n",
       "4    393225    393225001          is this a   \n",
       "\n",
       "                                       question answer_type  \\\n",
       "0                          Where is he looking?       other   \n",
       "1  What are the people in the background doing?       other   \n",
       "2                         What is he on top of?       other   \n",
       "3         What website copyrighted the picture?       other   \n",
       "4                        Is this a creamy soup?      yes/no   \n",
       "\n",
       "  multiple_choice_answer                                            answers  \\\n",
       "0                   down  [{'answer': 'down', 'answer_confidence': 'yes'...   \n",
       "1               watching  [{'answer': 'spectating', 'answer_confidence':...   \n",
       "2           picnic table  [{'answer': 'table', 'answer_confidence': 'yes...   \n",
       "3         foodiebakercom  [{'answer': 'foodiebakercom', 'answer_confiden...   \n",
       "4                     no  [{'answer': 'no', 'answer_confidence': 'yes', ...   \n",
       "\n",
       "         answer  \n",
       "0          down  \n",
       "1      watching  \n",
       "2  picnic table  \n",
       "3        flickr  \n",
       "4            no  "
      ]
     },
     "execution_count": 45,
     "metadata": {},
     "output_type": "execute_result"
    }
   ],
   "source": [
    "df.head()"
   ]
  },
  {
   "cell_type": "code",
   "execution_count": 67,
   "metadata": {},
   "outputs": [
    {
     "data": {
      "text/plain": [
       "array([2.5354853e-02, 7.5977556e-03, 1.4288769e-03, 6.6726711e-03,\n",
       "       1.2955396e-01, 5.7072964e-02, 3.8343132e-02, 1.3999376e-01,\n",
       "       9.3397997e-02, 1.4021274e-03, 1.9949338e-01, 1.2927374e-01,\n",
       "       1.4821576e-02, 1.4661065e-03, 1.2017309e-03, 3.0533285e-03,\n",
       "       2.2036819e-04, 6.1998427e-02, 3.0697882e-04, 5.9254897e-05,\n",
       "       1.1731223e-03, 3.8389080e-05, 2.0489120e-04, 4.2815559e-04,\n",
       "       4.5176954e-03, 2.3042402e-04, 4.5931051e-03, 2.3120690e-04,\n",
       "       7.1089168e-04, 2.5921927e-03, 1.8672001e-05, 8.4692910e-03,\n",
       "       1.2288127e-03, 4.2879628e-03, 9.0136443e-04, 2.7383907e-02,\n",
       "       4.4104797e-04, 2.1751106e-03, 1.8215738e-02, 1.2420953e-03,\n",
       "       8.2000848e-03], dtype=float32)"
      ]
     },
     "execution_count": 67,
     "metadata": {},
     "output_type": "execute_result"
    }
   ],
   "source": [
    "att_weights = att[0][:image_info['num_bbox']].detach().numpy()\n",
    "att_weights = att_weights.ravel()\n",
    "att_weights"
   ]
  },
  {
   "cell_type": "code",
   "execution_count": 70,
   "metadata": {},
   "outputs": [
    {
     "data": {
      "image/png": "[encoded data removed]",
      "text/plain": [
       "<Figure size 864x360 with 1 Axes>"
      ]
     },
     "metadata": {
      "needs_background": "light"
     },
     "output_type": "display_data"
    }
   ],
   "source": [
    "row = df.loc[0]\n",
    "k = 5\n",
    "\n",
    "image_id = row['image_id']\n",
    "question = row['question']\n",
    "pred = row['answer']\n",
    "gt = row['answers'][0]['answer']\n",
    "\n",
    "with np.load(f'data/vqa/feats/val2014/COCO_val2014_000000{image_id:06}.jpg.npz') as npz:\n",
    "    image_info = dict(zip(npz.files, npz.values()))\n",
    "\n",
    "image = plt.imread(f'data/vqa/raw/val2014/COCO_val2014_000000{image_id:06}.jpg')\n",
    "\n",
    "fig, ax = plt.subplots(figsize=(12,5))\n",
    "ax.imshow(image)\n",
    "\n",
    "idx = att_weights.argsort()\n",
    "att_weights_k = att_weights[idx][-k:]\n",
    "norm = mpl.colors.Normalize()\n",
    "cmap = plt.cm.Reds\n",
    "norm(att_weights)\n",
    "colors = cmap(norm(att_weights_k))\n",
    "\n",
    "for bbox in image_info['bbox']:\n",
    "    x0, y0, x1, y1 = bbox\n",
    "    bbox_patch = mpl.patches.Rectangle((x0, y0), x1-x0, y1-y0, fill=False, edgecolor='white')\n",
    "    ax.add_patch(bbox_patch)\n",
    "\n",
    "bboxes = image_info['bbox'][idx][-k:]\n",
    "for bbox, color in zip(bboxes, colors):\n",
    "    x0, y0, x1, y1 = bbox\n",
    "    bbox_patch = mpl.patches.Rectangle((x0, y0), x1-x0, y1-y0, fill=False, edgecolor=color)\n",
    "    ax.add_patch(bbox_patch)\n",
    "\n",
    "text = f'Question: {question}\\nPredicted: {pred}\\nGround truth: {gt}'\n",
    "ax.text(0, 1.1, text, transform=ax.transAxes, va='center', ha='left')\n",
    "ax.set_axis_off()"
   ]
  },
  {
   "cell_type": "markdown",
   "metadata": {
    "id": "WhxB1MggRzVW"
   },
   "source": [
    "# Prediction (on test set)"
   ]
  },
  {
   "cell_type": "code",
   "execution_count": 8,
   "metadata": {
    "colab": {
     "base_uri": "https://localhost:8080/"
    },
    "id": "WpoSdOZgaMr_",
    "outputId": "f06cd941-978d-479c-d532-24ab7680f68d"
   },
   "outputs": [
    {
     "name": "stdout",
     "output_type": "stream",
     "text": [
      "Evaluation: [step    0/ 837]          CPU times: user 8.84 s, sys: 1.22 s, total: 10.1 s\n",
      "Wall time: 6.76 s\n"
     ]
    }
   ],
   "source": [
    "%%time\n",
    "ans_ix_list = []\n",
    "pred_list = []\n",
    "\n",
    "for step, (\n",
    "        frcn_feat_iter,\n",
    "        grid_feat_iter,\n",
    "        bbox_feat_iter,\n",
    "        ques_ix_iter,\n",
    "        ans_iter\n",
    "    ) in enumerate(dataloader):\n",
    "    print(\"\\rEvaluation: [step %4d/%4d]\" % (\n",
    "        step,\n",
    "        int(data_size / __C.EVAL_BATCH_SIZE),\n",
    "    ), end='          ')\n",
    "\n",
    "#     frcn_feat_iter = frcn_feat_iter.cuda()\n",
    "#     grid_feat_iter = grid_feat_iter.cuda()\n",
    "#     bbox_feat_iter = bbox_feat_iter.cuda()\n",
    "#     ques_ix_iter = ques_ix_iter.cuda()\n",
    "\n",
    "    pred = net(\n",
    "        frcn_feat_iter,\n",
    "        grid_feat_iter,\n",
    "        bbox_feat_iter,\n",
    "        ques_ix_iter\n",
    "    )\n",
    "\n",
    "    pred_np = pred.cpu().data.numpy()\n",
    "    pred_argmax = np.argmax(pred_np, axis=1)\n",
    "    \n",
    "    if pred_argmax.shape[0] != __C.EVAL_BATCH_SIZE:\n",
    "        pred_argmax = np.pad(\n",
    "            pred_argmax,\n",
    "            (0, __C.EVAL_BATCH_SIZE - pred_argmax.shape[0]),\n",
    "            mode='constant',\n",
    "            constant_values=-1\n",
    "        )\n",
    "\n",
    "    ans_ix_list.append(pred_argmax)\n",
    "    \n",
    "    if __C.TEST_SAVE_PRED:\n",
    "        if pred_np.shape[0] != __C.EVAL_BATCH_SIZE:\n",
    "            pred_np = np.pad(\n",
    "                pred_np,\n",
    "                ((0, __C.EVAL_BATCH_SIZE - pred_np.shape[0]), (0, 0)),\n",
    "                mode='constant',\n",
    "                constant_values=-1\n",
    "            )\n",
    "\n",
    "        pred_list.append(pred_np)\n",
    "    break\n",
    "\n",
    "# Evaluation: [step 6698/6698]\n",
    "# CPU times: user 14h 57min 55s, sys: 19min 55s, total: 15h 17min 51s\n",
    "# Wall time: 7h 40min 34s\n",
    "# Evaluation: [step 13993/13993]\n",
    "# CPU times: user 13min 48s, sys: 8min 59s, total: 22min 47s\n",
    "# Wall time: 35min 22s"
   ]
  },
  {
   "cell_type": "code",
   "execution_count": 36,
   "metadata": {
    "colab": {
     "base_uri": "https://localhost:8080/"
    },
    "id": "XKX9LFIc9cti",
    "outputId": "286e8440-2350-4d5b-fc99-268fcbd04fdf"
   },
   "outputs": [
    {
     "name": "stdout",
     "output_type": "stream",
     "text": [
      "Save the result to file: ./results/cache/result_run_6911998.json\n"
     ]
    }
   ],
   "source": [
    "ans_ix_list = np.array(ans_ix_list).reshape(-1)\n",
    "\n",
    "qid_list = [ques['question_id'] for ques in dataset.ques_list]\n",
    "ans_size = dataset.ans_size\n",
    "\n",
    "result = [{\n",
    "        'answer': dataset.ix_to_ans[str(ans_ix_list[qix])],\n",
    "        'question_id': int(qid_list[qix])\n",
    "    } for qix in range(qid_list.__len__())]\n",
    "\n",
    "result_eval_file = __C.CACHE_PATH + '/result_run_' + __C.VERSION\n",
    "log_file = __C.LOG_PATH + '/log_run_' + __C.VERSION + '.txt'\n",
    "result_eval_file += '.json'\n",
    "print('Save the result to file: {}'.format(result_eval_file))\n",
    "with open(result_eval_file, 'w') as f:\n",
    "    json.dump(result, f)"
   ]
  },
  {
   "cell_type": "markdown",
   "metadata": {
    "id": "2hdcIm1NR4vv"
   },
   "source": [
    "# Evaluation (on validation set)"
   ]
  },
  {
   "cell_type": "code",
   "execution_count": null,
   "metadata": {
    "id": "hM2f7Wa79cti",
    "outputId": "9a6511fe-b6bc-4928-e264-a94438ef7a8f"
   },
   "outputs": [
    {
     "name": "stdout",
     "output_type": "stream",
     "text": [
      "loading VQA annotations and questions into memory...\n",
      "0:00:05.052310\n",
      "creating index...\n",
      "index created!\n",
      "Loading and preparing results...     \n",
      "DONE (t=0.46s)\n",
      "creating index...\n",
      "index created!\n"
     ]
    }
   ],
   "source": [
    "result_eval_file = __C.CACHE_PATH + '/result_run_' + __C.VERSION\n",
    "result_eval_file += '.json'\n",
    "\n",
    "ques_file_path = __C.RAW_PATH[__C.DATASET][__C.SPLIT['val']]\n",
    "ans_file_path = __C.RAW_PATH[__C.DATASET][__C.SPLIT['val'] + '-anno']\n",
    "# uncomment line 165-166 in http://localhost:8888/edit/openvqa/openvqa/datasets/vqa/eval/vqa.py\n",
    "vqa = VQA(ans_file_path, ques_file_path)\n",
    "vqaRes = vqa.loadRes(result_eval_file, ques_file_path)"
   ]
  },
  {
   "cell_type": "code",
   "execution_count": null,
   "metadata": {
    "id": "bwwh_z9P9ctj",
    "outputId": "dd21cb3e-63ea-4776-a055-27214f6ac96c"
   },
   "outputs": [
    {
     "name": "stdout",
     "output_type": "stream",
     "text": [
      "computing accuracy\n",
      "Finished Percent: [####################] 99% Done computing accuracy\n"
     ]
    }
   ],
   "source": [
    "vqaEval = VQAEval(vqa, vqaRes, n=2)\n",
    "\n",
    "# quesIds = [d['question_id'] for d in result]\n",
    "# vqaEval.evaluate(quesIds)\n",
    "vqaEval.evaluate()"
   ]
  },
  {
   "cell_type": "code",
   "execution_count": null,
   "metadata": {
    "id": "6Yd0wNsg9ctk",
    "outputId": "3e7350c2-cb9b-43c8-c5e7-f2c8b0cb8d11"
   },
   "outputs": [
    {
     "data": {
      "text/plain": [
       "{'overall': 84.09,\n",
       " 'perQuestionType': {'none of the above': 82.19,\n",
       "  'what are the': 75.57,\n",
       "  'what is': 75.66,\n",
       "  'what': 69.0,\n",
       "  'is this a': 97.88,\n",
       "  'is this': 97.46,\n",
       "  'what is the man': 84.12,\n",
       "  'how many': 75.92,\n",
       "  'what does the': 48.29,\n",
       "  'why': 46.35,\n",
       "  'is it': 98.84,\n",
       "  'why is the': 47.41,\n",
       "  'what color is the': 92.15,\n",
       "  'is there a': 98.67,\n",
       "  'is the': 96.79,\n",
       "  'is that a': 97.79,\n",
       "  'are these': 96.65,\n",
       "  'are the': 96.26,\n",
       "  'what is the': 75.58,\n",
       "  'which': 68.28,\n",
       "  'could': 98.61,\n",
       "  'are there': 98.21,\n",
       "  'what kind of': 76.9,\n",
       "  'has': 97.16,\n",
       "  'what color are the': 91.07,\n",
       "  'are there any': 99.08,\n",
       "  'is this person': 98.05,\n",
       "  'does the': 97.25,\n",
       "  'where is the': 60.6,\n",
       "  'how many people are': 74.58,\n",
       "  'can you': 97.58,\n",
       "  'what type of': 77.29,\n",
       "  'what is the color of the': 92.4,\n",
       "  'what is on the': 76.11,\n",
       "  'does this': 97.48,\n",
       "  'is this an': 97.49,\n",
       "  'who is': 63.25,\n",
       "  'what is this': 84.76,\n",
       "  'is there': 98.29,\n",
       "  'are': 95.61,\n",
       "  'what time': 45.95,\n",
       "  'how': 54.52,\n",
       "  'what is in the': 82.44,\n",
       "  'do you': 98.56,\n",
       "  'what are': 82.12,\n",
       "  'what sport is': 96.99,\n",
       "  'what is the person': 85.1,\n",
       "  'is he': 97.53,\n",
       "  'where are the': 62.22,\n",
       "  'what brand': 63.21,\n",
       "  'what number is': 31.31,\n",
       "  'what color is': 92.86,\n",
       "  'what is the woman': 81.28,\n",
       "  'what room is': 97.59,\n",
       "  'is': 96.83,\n",
       "  'what color': 88.12,\n",
       "  'is the woman': 96.96,\n",
       "  'are they': 97.53,\n",
       "  'is the person': 97.58,\n",
       "  'is the man': 97.35,\n",
       "  'what animal is': 90.35,\n",
       "  'what is the name': 32.58,\n",
       "  'was': 97.43,\n",
       "  'do': 95.87,\n",
       "  'how many people are in': 78.74},\n",
       " 'perAnswerType': {'other': 77.52, 'yes/no': 97.97, 'number': 69.03}}"
      ]
     },
     "execution_count": 9,
     "metadata": {
      "tags": []
     },
     "output_type": "execute_result"
    }
   ],
   "source": [
    "vqaEval.accuracy"
   ]
  },
  {
   "cell_type": "code",
   "execution_count": null,
   "metadata": {
    "id": "uIGU9OEt9ctk"
   },
   "outputs": [],
   "source": []
  }
 ],
 "metadata": {
  "accelerator": "GPU",
  "colab": {
   "collapsed_sections": [],
   "name": "openvqa.ipynb",
   "provenance": []
  },
  "kernelspec": {
   "display_name": "Python 3",
   "language": "python",
   "name": "python3"
  },
  "language_info": {
   "codemirror_mode": {
    "name": "ipython",
    "version": 3
   },
   "file_extension": ".py",
   "mimetype": "text/x-python",
   "name": "python",
   "nbconvert_exporter": "python",
   "pygments_lexer": "ipython3",
   "version": "3.8.5"
  }
 },
 "nbformat": 4,
 "nbformat_minor": 1
}
