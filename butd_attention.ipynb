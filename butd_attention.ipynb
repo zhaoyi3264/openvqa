{
  "nbformat": 4,
  "nbformat_minor": 0,
  "metadata": {
    "accelerator": "GPU",
    "colab": {
      "name": "openvqa.ipynb",
      "provenance": [],
      "collapsed_sections": [],
      "toc_visible": true
    },
    "kernelspec": {
      "display_name": "Python 3",
      "language": "python",
      "name": "python3"
    },
    "language_info": {
      "codemirror_mode": {
        "name": "ipython",
        "version": 3
      },
      "file_extension": ".py",
      "mimetype": "text/x-python",
      "name": "python",
      "nbconvert_exporter": "python",
      "pygments_lexer": "ipython3",
      "version": "3.8.5"
    }
  },
  "cells": [
    {
      "cell_type": "markdown",
      "metadata": {
        "id": "uqAZLp3XRavH"
      },
      "source": [
        "# Setup"
      ]
    },
    {
      "cell_type": "code",
      "metadata": {
        "colab": {
          "base_uri": "https://localhost:8080/"
        },
        "id": "6ASZDou59uiE",
        "outputId": "72b451c4-77c3-41c6-d1e0-e54e131e9e9b"
      },
      "source": [
        "from google.colab import drive\n",
        "drive.mount('/content/drive')"
      ],
      "execution_count": 1,
      "outputs": [
        {
          "output_type": "stream",
          "text": [
            "Mounted at /content/drive\n"
          ],
          "name": "stdout"
        }
      ]
    },
    {
      "cell_type": "markdown",
      "metadata": {
        "id": "50RpFIK5Qqjb"
      },
      "source": [
        "## Test set features\n"
      ]
    },
    {
      "cell_type": "code",
      "metadata": {
        "id": "78Ab9xtK9gP8"
      },
      "source": [
        "!tar xzf /content/drive/MyDrive/stat453/test2015.tar.gz"
      ],
      "execution_count": 2,
      "outputs": []
    },
    {
      "cell_type": "code",
      "metadata": {
        "colab": {
          "base_uri": "https://localhost:8080/"
        },
        "id": "FAsqCUkoGu6P",
        "outputId": "fe3a2eb4-387a-4b6c-b957-ff67cac2e86f"
      },
      "source": [
        "!ls test2015/ | wc -l"
      ],
      "execution_count": 4,
      "outputs": [
        {
          "output_type": "stream",
          "text": [
            "81434\n"
          ],
          "name": "stdout"
        }
      ]
    },
    {
      "cell_type": "code",
      "metadata": {
        "id": "hLQzXtJ_BTMd",
        "colab": {
          "base_uri": "https://localhost:8080/"
        },
        "outputId": "6c041077-1810-4655-9952-73ef82ea1df2"
      },
      "source": [
        "!git clone https://github.com/zhaoyi3264/openvqa.git"
      ],
      "execution_count": 5,
      "outputs": [
        {
          "output_type": "stream",
          "text": [
            "Cloning into 'openvqa'...\n",
            "remote: Enumerating objects: 1566, done.\u001b[K\n",
            "remote: Counting objects: 100% (1566/1566), done.\u001b[K\n",
            "remote: Compressing objects: 100% (612/612), done.\u001b[K\n",
            "remote: Total 1566 (delta 933), reused 1560 (delta 928), pack-reused 0\u001b[K\n",
            "Receiving objects: 100% (1566/1566), 1.70 MiB | 7.74 MiB/s, done.\n",
            "Resolving deltas: 100% (933/933), done.\n"
          ],
          "name": "stdout"
        }
      ]
    },
    {
      "cell_type": "code",
      "metadata": {
        "id": "DJ042yxlB_Hd"
      },
      "source": [
        "!mv test2015/ openvqa/data/vqa/feats/\n",
        "!mkdir openvqa/data/vqa/feats/train2014\n",
        "!mkdir openvqa/data/vqa/feats/val2014"
      ],
      "execution_count": 6,
      "outputs": []
    },
    {
      "cell_type": "markdown",
      "metadata": {
        "id": "yqUEFkauQ1j3"
      },
      "source": [
        "## Raw data"
      ]
    },
    {
      "cell_type": "code",
      "metadata": {
        "id": "quiQmrNNCaFV"
      },
      "source": [
        "!cp /content/drive/MyDrive/stat453/raw/*.json openvqa/data/vqa/raw/"
      ],
      "execution_count": 10,
      "outputs": []
    },
    {
      "cell_type": "markdown",
      "metadata": {
        "id": "ka4xSDWxQ6dD"
      },
      "source": [
        "## Pre-trained model (BUTD)\n",
        "\n"
      ]
    },
    {
      "cell_type": "code",
      "metadata": {
        "id": "Fx_wtxreF5rT"
      },
      "source": [
        "!mkdir -p openvqa/ckpts/ckpt_butd/\n",
        "!cp /content/drive/MyDrive/stat453/ckpts/ckpt_butd/epoch13.pkl openvqa/ckpts/ckpt_butd/"
      ],
      "execution_count": 62,
      "outputs": []
    },
    {
      "cell_type": "markdown",
      "metadata": {
        "id": "kBdkG8PTRAp4"
      },
      "source": [
        "## Spacy model"
      ]
    },
    {
      "cell_type": "code",
      "metadata": {
        "id": "N9IreGohFF6H",
        "colab": {
          "base_uri": "https://localhost:8080/"
        },
        "outputId": "62798598-2355-4b03-b774-10983c7545bd"
      },
      "source": [
        "# !wget https://github.com/explosion/spacy-models/releases/download/en_vectors_web_lg-2.1.0/en_vectors_web_lg-2.1.0.tar.gz -O en_vectors_web_lg-2.1.0.tar.gz\n",
        "!pip install -q /content/drive/MyDrive/stat453/en_vectors_web_lg-2.1.0.tar.gz"
      ],
      "execution_count": 14,
      "outputs": [
        {
          "output_type": "stream",
          "text": [
            "  Building wheel for en-vectors-web-lg (setup.py) ... \u001b[?25l\u001b[?25hdone\n"
          ],
          "name": "stdout"
        }
      ]
    },
    {
      "cell_type": "code",
      "metadata": {
        "id": "CToSkXelIhro"
      },
      "source": [
        "# %load_ext autoreload\n",
        "# %autoreload 2"
      ],
      "execution_count": null,
      "outputs": []
    },
    {
      "cell_type": "markdown",
      "metadata": {
        "id": "eDHHBqnjRij2"
      },
      "source": [
        "## Source code"
      ]
    },
    {
      "cell_type": "markdown",
      "metadata": {
        "id": "EFBMHegVYwgx"
      },
      "source": [
        "https://github.com/MILVLG/openvqa/blob/6b9bfeb2e6462b946d7e7866ffc49dd7a8bcece3/openvqa/core/base_cfgs.py\n",
        "https://github.com/MILVLG/openvqa/blob/6b9bfeb2e6462b946d7e7866ffc49dd7a8bcece3/utils/exec.py#L36\n",
        "https://github.com/MILVLG/openvqa/blob/6b9bfeb2e6462b946d7e7866ffc49dd7a8bcece3/utils/test_engine.py#L49\n",
        "https://github.com/MILVLG/openvqa/blob/6b9bfeb2e6462b946d7e7866ffc49dd7a8bcece3/openvqa/datasets/vqa/vqa_loader.py#L68"
      ]
    },
    {
      "cell_type": "markdown",
      "metadata": {
        "id": "wyONyychRXaF"
      },
      "source": [
        "# Load dataset"
      ]
    },
    {
      "cell_type": "code",
      "metadata": {
        "colab": {
          "base_uri": "https://localhost:8080/"
        },
        "id": "DobaMYxcDkgN",
        "outputId": "f3d20f2f-e8e0-486c-fb4e-d9948dbdd58c"
      },
      "source": [
        "%cd /content/openvqa/"
      ],
      "execution_count": 64,
      "outputs": [
        {
          "output_type": "stream",
          "text": [
            "/content/openvqa\n"
          ],
          "name": "stdout"
        }
      ]
    },
    {
      "cell_type": "code",
      "metadata": {
        "colab": {
          "base_uri": "https://localhost:8080/"
        },
        "id": "08lNunGuD52d",
        "outputId": "6ab32ee2-be40-478c-c50f-4d8379295919"
      },
      "source": [
        "import gc\n",
        "import json\n",
        "\n",
        "import numpy as np\n",
        "import torch\n",
        "import torch.utils.data as Data\n",
        "import yaml\n",
        "# from yaml import CLoader\n",
        "\n",
        "from openvqa.datasets.dataset_loader import DatasetLoader, EvalLoader\n",
        "from openvqa.datasets.vqa.eval.vqa import VQA\n",
        "from openvqa.datasets.vqa.eval.vqaEval import VQAEval\n",
        "from openvqa.models.model_loader import CfgLoader, ModelLoader\n",
        "from run import create_parser\n",
        "from utils.test_engine import test_engine\n",
        "\n",
        "parser = create_parser()\n",
        "arg = '--RUN test --MODEL butd --DATASET vqa --NW 2 --CKPT_V butd --CKPT_E 13'\n",
        "args = parser.parse_args(arg.split(' '))\n",
        "\n",
        "cfg_file = \"configs/{}/{}.yml\".format(args.DATASET, args.MODEL)\n",
        "with open(cfg_file, 'r') as f:\n",
        "    # yaml_dict = yaml.load(f, Loader=CLoader)\n",
        "    yaml_dict = yaml.load(f)\n",
        "\n",
        "__C = CfgLoader(yaml_dict['MODEL_USE']).load()\n",
        "args = __C.str_to_bool(args)\n",
        "args_dict = __C.parse_to_dict(args)\n",
        "\n",
        "args_dict = {**yaml_dict, **args_dict}\n",
        "__C.add_args(args_dict)\n",
        "__C.proc()\n",
        "\n",
        "print('Hyper Parameters:')\n",
        "print(__C)"
      ],
      "execution_count": 65,
      "outputs": [
        {
          "output_type": "stream",
          "text": [
            "Checking dataset ........\n",
            "Finished!\n",
            "\n",
            "Hyper Parameters:\n",
            "{ BATCH_SIZE        }->512\n",
            "{ BBOX_NORMALIZE    }->False\n",
            "{ CACHE_PATH        }->./results/cache\n",
            "{ CKPTS_PATH        }->./ckpts\n",
            "{ CKPT_EPOCH        }->13\n",
            "{ CKPT_PATH         }->None\n",
            "{ CKPT_VERSION      }->butd\n",
            "{ CLASSIFER_DROPOUT_R }->0.5\n",
            "{ DATASET           }->vqa\n",
            "{ DATA_PATH         }->{'vqa': './data/vqa', 'gqa': './data/gqa', 'clevr': './data/clevr'}\n",
            "{ DATA_ROOT         }->./data\n",
            "{ DEVICES           }->[0]\n",
            "{ DROPOUT_R         }->0.2\n",
            "{ EVAL_BATCH_SIZE   }->256\n",
            "{ EVAL_EVERY_EPOCH  }->False\n",
            "{ FEATS_PATH        }->{'vqa': {'train': './data/vqa/feats/train2014', 'val': './data/vqa/feats/val2014', 'test': './data/vqa/feats/test2015'}, 'gqa': {'default-frcn': './data/gqa/feats/gqa-frcn', 'default-grid': './data/gqa/feats/gqa-grid'}, 'clevr': {'train': './data/clevr/feats/train', 'val': './data/clevr/feats/val', 'test': './data/clevr/feats/test'}}\n",
            "{ FEAT_SIZE         }->{'vqa': {'FRCN_FEAT_SIZE': (100, 2048), 'BBOX_FEAT_SIZE': (100, 5)}, 'gqa': {'FRCN_FEAT_SIZE': (100, 2048), 'GRID_FEAT_SIZE': (49, 2048), 'BBOX_FEAT_SIZE': (100, 5)}, 'clevr': {'GRID_FEAT_SIZE': (196, 1024)}}\n",
            "{ FLAT_OUT_SIZE     }->2048\n",
            "{ GPU               }->0\n",
            "{ GRAD_ACCU_STEPS   }->1\n",
            "{ GRAD_NORM_CLIP    }->0.25\n",
            "{ HIDDEN_SIZE       }->1024\n",
            "{ IMG_FEAT_SIZE     }->2048\n",
            "{ LOG_PATH          }->./results/log\n",
            "{ LOSS_FUNC         }->bce\n",
            "{ LOSS_FUNC_NAME_DICT }->{'ce': 'CrossEntropyLoss', 'bce': 'BCEWithLogitsLoss', 'kld': 'KLDivLoss', 'mse': 'MSELoss'}\n",
            "{ LOSS_FUNC_NONLINEAR }->{'ce': [None, 'flat'], 'bce': [None, None], 'kld': ['log_softmax', None], 'mse': [None, None]}\n",
            "{ LOSS_REDUCTION    }->sum\n",
            "{ LR_BASE           }->0.002\n",
            "{ LR_DECAY_LIST     }->[10, 12]\n",
            "{ LR_DECAY_R        }->0.2\n",
            "{ MAX_EPOCH         }->13\n",
            "{ MODEL             }->butd\n",
            "{ MODEL_USE         }->butd\n",
            "{ NUM_WORKERS       }->2\n",
            "{ N_GPU             }->1\n",
            "{ OPT               }->Adamax\n",
            "{ OPT_PARAMS        }->{'betas': (0.9, 0.999), 'eps': 1e-09, 'weight_decay': 0}\n",
            "{ PIN_MEM           }->True\n",
            "{ PRED_PATH         }->./results/pred\n",
            "{ RAW_PATH          }->{'vqa': {'train': './data/vqa/raw/v2_OpenEnded_mscoco_train2014_questions.json', 'train-anno': './data/vqa/raw/v2_mscoco_train2014_annotations.json', 'val': './data/vqa/raw/v2_OpenEnded_mscoco_val2014_questions.json', 'val-anno': './data/vqa/raw/v2_mscoco_val2014_annotations.json', 'vg': './data/vqa/raw/VG_questions.json', 'vg-anno': './data/vqa/raw/VG_annotations.json', 'test': './data/vqa/raw/v2_OpenEnded_mscoco_test2015_questions.json'}, 'gqa': {'train': './data/gqa/raw/questions1.2/train_balanced_questions.json', 'val': './data/gqa/raw/questions1.2/val_balanced_questions.json', 'testdev': './data/gqa/raw/questions1.2/testdev_balanced_questions.json', 'test': './data/gqa/raw/questions1.2/submission_all_questions.json', 'val_all': './data/gqa/raw/questions1.2/val_all_questions.json', 'testdev_all': './data/gqa/raw/questions1.2/testdev_all_questions.json', 'train_choices': './data/gqa/raw/eval/train_choices', 'val_choices': './data/gqa/raw/eval/val_choices.json'}, 'clevr': {'train': './data/clevr/raw/questions/CLEVR_train_questions.json', 'val': './data/clevr/raw/questions/CLEVR_val_questions.json', 'test': './data/clevr/raw/questions/CLEVR_test_questions.json'}}\n",
            "{ RESULT_PATH       }->./results/result_test\n",
            "{ RESUME            }->False\n",
            "{ RUN_MODE          }->test\n",
            "{ SEED              }->2205634\n",
            "{ SPLIT             }->{'train': 'train', 'val': 'val', 'test': 'test'}\n",
            "{ SPLITS            }->{'vqa': {'train': 'train', 'val': 'val', 'test': 'test'}, 'gqa': {'train': '', 'val': 'testdev', 'test': 'test'}, 'clevr': {'train': '', 'val': 'val', 'test': 'test'}}\n",
            "{ SUB_BATCH_SIZE    }->512\n",
            "{ TASK_LOSS_CHECK   }->{'vqa': ['bce', 'kld'], 'gqa': ['ce'], 'clevr': ['ce']}\n",
            "{ TEST_SAVE_PRED    }->False\n",
            "{ TRAIN_SPLIT       }->train\n",
            "{ USE_GLOVE         }->True\n",
            "{ VERBOSE           }->True\n",
            "{ VERSION           }->2205634\n",
            "{ WARMUP_EPOCH      }->3\n",
            "{ WORD_EMBED_SIZE   }->300\n",
            "\n"
          ],
          "name": "stdout"
        }
      ]
    },
    {
      "cell_type": "code",
      "metadata": {
        "colab": {
          "base_uri": "https://localhost:8080/"
        },
        "id": "czhtig1Y8zZO",
        "outputId": "90aa7c57-a5c6-4175-b6cf-51c5ba2c2b49"
      },
      "source": [
        "dataset = DatasetLoader(__C).DataSet()\n",
        "\n",
        "data_size = dataset.data_size\n",
        "token_size = dataset.token_size\n",
        "ans_size = dataset.ans_size\n",
        "pretrained_emb = dataset.pretrained_emb"
      ],
      "execution_count": 3,
      "outputs": [
        {
          "output_type": "stream",
          "text": [
            " ========== Dataset size: 447793\n",
            " ========== Question token vocab size: 20573\n",
            " ========== Answer token vocab size (occur more than 8 times): 3129\n",
            "Finished!\n",
            "\n"
          ],
          "name": "stdout"
        }
      ]
    },
    {
      "cell_type": "code",
      "metadata": {
        "colab": {
          "base_uri": "https://localhost:8080/"
        },
        "id": "8s56dZbZK_MJ",
        "outputId": "1302cee1-8ff8-4ab8-8c0a-31662f3a0de7"
      },
      "source": [
        "net = ModelLoader(__C).Net(\n",
        "    __C,\n",
        "    pretrained_emb,\n",
        "    token_size,\n",
        "    ans_size\n",
        ")\n",
        "\n",
        "net.cuda()\n",
        "net.eval()\n",
        "\n",
        "with open('ckpts/ckpt_butd/epoch13.pkl', 'rb') as f:\n",
        "    state = torch.load(f)\n",
        "net.load_state_dict(state['state_dict'])"
      ],
      "execution_count": 66,
      "outputs": [
        {
          "output_type": "execute_result",
          "data": {
            "text/plain": [
              "<All keys matched successfully>"
            ]
          },
          "metadata": {
            "tags": []
          },
          "execution_count": 66
        }
      ]
    },
    {
      "cell_type": "code",
      "metadata": {
        "id": "Agvd5qHvWSo1"
      },
      "source": [
        "dataloader = Data.DataLoader(\n",
        "    dataset,\n",
        "    batch_size=__C.EVAL_BATCH_SIZE,\n",
        "    shuffle=False,\n",
        "    num_workers=__C.NUM_WORKERS,\n",
        "    pin_memory=__C.PIN_MEM\n",
        ")"
      ],
      "execution_count": 88,
      "outputs": []
    },
    {
      "cell_type": "markdown",
      "metadata": {
        "id": "WhxB1MggRzVW"
      },
      "source": [
        "# Prediction (on test set)"
      ]
    },
    {
      "cell_type": "code",
      "metadata": {
        "colab": {
          "base_uri": "https://localhost:8080/"
        },
        "id": "LRDyxl0L9XHW",
        "outputId": "3d4df0cb-5d87-497a-8f23-1993092bc6a9"
      },
      "source": [
        "%%time\n",
        "atts = []\n",
        "ans_ix_list = []\n",
        "pred_list = []\n",
        "\n",
        "for step, (frcn_feat, grid_feat, bbox_feat, ques_ix, ans) in enumerate(dataloader):\n",
        "    print(\"\\rEvaluation: [step %4d/%4d]\" % (\n",
        "        step,\n",
        "        int(data_size / __C.EVAL_BATCH_SIZE),\n",
        "    ), end='          ')\n",
        "\n",
        "    frcn_feat = frcn_feat.cuda()\n",
        "    grid_feat = grid_feat.cuda()\n",
        "    bbox_feat = bbox_feat.cuda()\n",
        "    ques_ix = ques_ix.cuda()\n",
        "\n",
        "    lang_feat = net.embedding(ques_ix)\n",
        "    lang_feat, _ = net.rnn(lang_feat)\n",
        "\n",
        "    img_feat, _ = net.adapter(frcn_feat, grid_feat, bbox_feat)\n",
        "\n",
        "    q, v = lang_feat[:, -1], img_feat\n",
        "\n",
        "    att = net.backbone.v_att(q, v)\n",
        "    atts.append(att.squeeze(-1).cpu().detach().numpy())\n",
        "    atted_v = (att * v).sum(1)\n",
        "    q_repr = net.backbone.q_net(q)\n",
        "    v_repr = net.backbone.v_net(atted_v)\n",
        "    joint_repr = q_repr * v_repr\n",
        "    pred = net.classifer(joint_repr)\n",
        "\n",
        "    pred_np = pred.cpu().data.numpy()\n",
        "    pred_argmax = np.argmax(pred_np, axis=1)\n",
        "    \n",
        "    if pred_argmax.shape[0] != __C.EVAL_BATCH_SIZE:\n",
        "        pred_argmax = np.pad(\n",
        "            pred_argmax,\n",
        "            (0, __C.EVAL_BATCH_SIZE - pred_argmax.shape[0]),\n",
        "            mode='constant',\n",
        "            constant_values=-1\n",
        "        )\n",
        "\n",
        "    ans_ix_list.append(pred_argmax)\n",
        "    \n",
        "    if __C.TEST_SAVE_PRED:\n",
        "        if pred_np.shape[0] != __C.EVAL_BATCH_SIZE:\n",
        "            pred_np = np.pad(\n",
        "                pred_np,\n",
        "                ((0, __C.EVAL_BATCH_SIZE - pred_np.shape[0]), (0, 0)),\n",
        "                mode='constant',\n",
        "                constant_values=-1\n",
        "            )\n",
        "\n",
        "        pred_list.append(pred_np)\n",
        "\n",
        "# Evaluation: [step 1749/1749]\n",
        "# CPU times: user 4min 39s, sys: 3min 56s, total: 8min 36s\n",
        "# Wall time: 34min 6s"
      ],
      "execution_count": 97,
      "outputs": [
        {
          "output_type": "stream",
          "text": [
            "Evaluation: [step 1749/1749]          CPU times: user 4min 39s, sys: 3min 56s, total: 8min 36s\n",
            "Wall time: 34min 6s\n"
          ],
          "name": "stdout"
        }
      ]
    },
    {
      "cell_type": "code",
      "metadata": {
        "id": "Z7bUjkITnehA",
        "outputId": "70136357-f78a-4f6a-e005-38398f95cb1d",
        "colab": {
          "base_uri": "https://localhost:8080/"
        }
      },
      "source": [
        "ans_ix_list = np.array(ans_ix_list).reshape(-1)\n",
        "\n",
        "qid_list = [ques['question_id'] for ques in dataset.ques_list]\n",
        "ans_size = dataset.ans_size\n",
        "\n",
        "result = [{\n",
        "        'answer': dataset.ix_to_ans[str(ans_ix_list[qix])],\n",
        "        'question_id': int(qid_list[qix])\n",
        "    } for qix in range(qid_list.__len__())]\n",
        "\n",
        "result_eval_file = __C.CACHE_PATH + '/result_run_' + __C.VERSION\n",
        "log_file = __C.LOG_PATH + '/log_run_' + __C.VERSION + '.txt'\n",
        "result_eval_file += '.json'\n",
        "print('Save the result to file: {}'.format(result_eval_file))\n",
        "with open(result_eval_file, 'w') as f:\n",
        "    json.dump(result, f)"
      ],
      "execution_count": 98,
      "outputs": [
        {
          "output_type": "stream",
          "text": [
            "Save the result to file: ./results/cache/result_run_2205634.json\n"
          ],
          "name": "stdout"
        }
      ]
    },
    {
      "cell_type": "code",
      "metadata": {
        "colab": {
          "base_uri": "https://localhost:8080/"
        },
        "id": "4Cz86CZ99XHX",
        "outputId": "74ae8241-ba27-4b1c-8dad-86e30952ebc6"
      },
      "source": [
        "res = np.concatenate(atts)\n",
        "res.shape"
      ],
      "execution_count": 99,
      "outputs": [
        {
          "output_type": "execute_result",
          "data": {
            "text/plain": [
              "(447793, 100)"
            ]
          },
          "metadata": {
            "tags": []
          },
          "execution_count": 99
        }
      ]
    },
    {
      "cell_type": "code",
      "metadata": {
        "colab": {
          "base_uri": "https://localhost:8080/"
        },
        "id": "ZbHM2aFS9XHX",
        "outputId": "21e363e4-c398-49ff-c326-32b4c4edfe9f"
      },
      "source": [
        "res.nbytes / 2**20"
      ],
      "execution_count": 100,
      "outputs": [
        {
          "output_type": "execute_result",
          "data": {
            "text/plain": [
              "170.81947326660156"
            ]
          },
          "metadata": {
            "tags": []
          },
          "execution_count": 100
        }
      ]
    },
    {
      "cell_type": "code",
      "metadata": {
        "id": "fSLIi-FnenHS"
      },
      "source": [
        "np.savez_compressed('att_weight_butd', att=res)"
      ],
      "execution_count": 101,
      "outputs": []
    },
    {
      "cell_type": "code",
      "metadata": {
        "colab": {
          "base_uri": "https://localhost:8080/"
        },
        "id": "oWvXpa2ae-Q6",
        "outputId": "49a18da0-eb4d-4fbd-84f7-d2b73e97dfad"
      },
      "source": [
        "temp = np.load('att_weight_butd.npz')\n",
        "temp['att'].shape"
      ],
      "execution_count": 102,
      "outputs": [
        {
          "output_type": "execute_result",
          "data": {
            "text/plain": [
              "(447793, 100)"
            ]
          },
          "metadata": {
            "tags": []
          },
          "execution_count": 102
        }
      ]
    },
    {
      "cell_type": "code",
      "metadata": {
        "id": "CurfBsTMuSMa"
      },
      "source": [
        ""
      ],
      "execution_count": null,
      "outputs": []
    }
  ]
}